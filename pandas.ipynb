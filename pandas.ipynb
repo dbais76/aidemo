{
 "cells": [
  {
   "cell_type": "code",
   "execution_count": 4,
   "id": "89fffc25-9585-4f23-894a-6b05416fd585",
   "metadata": {
    "tags": []
   },
   "outputs": [],
   "source": [
    "import pandas as pd"
   ]
  },
  {
   "cell_type": "code",
   "execution_count": 5,
   "id": "97b1d923-aa46-4b48-8271-7f2d5d5aaf9b",
   "metadata": {
    "tags": []
   },
   "outputs": [
    {
     "name": "stdout",
     "output_type": "stream",
     "text": [
      "        Score  Period\n",
      "Stats1    420       5\n",
      "Stats2    380       4\n",
      "Stats3    390       8\n"
     ]
    }
   ],
   "source": [
    "data = {\n",
    "  \"Score\": [420, 380, 390],\n",
    "  \"Period\": [5, 4, 8]\n",
    "}\n",
    "\n",
    "df = pd.DataFrame(data, index = [\"Stats1\", \"Stats2\", \"Stats3\"])\n",
    "\n",
    "print(df) "
   ]
  },
  {
   "cell_type": "code",
   "execution_count": 6,
   "id": "7eaf17a0-f5f3-4931-8c06-910313da7325",
   "metadata": {
    "tags": []
   },
   "outputs": [
    {
     "name": "stdout",
     "output_type": "stream",
     "text": [
      "   No of Weeks  Total Score  No of candidates\n",
      "0            3          340                67\n",
      "1            4          456                45\n",
      "2            6          235                78\n",
      "3            8          512               101\n",
      "4            4          360                77\n",
      "5            5          610                67\n"
     ]
    }
   ],
   "source": [
    "df = pd.read_csv('data.csv')\n",
    "\n",
    "print(df.to_string())"
   ]
  },
  {
   "cell_type": "code",
   "execution_count": 8,
   "id": "9c86c5c9-4b9a-4efe-a31b-a1c0fe515f72",
   "metadata": {
    "tags": []
   },
   "outputs": [
    {
     "name": "stdout",
     "output_type": "stream",
     "text": [
      "   No of Weeks  Total Score  No of candidates\n",
      "0            3          340                67\n",
      "1            4          456                45\n"
     ]
    }
   ],
   "source": [
    "print(df.head(2))"
   ]
  }
 ],
 "metadata": {
  "kernelspec": {
   "display_name": "Python 3 (ipykernel)",
   "language": "python",
   "name": "python3"
  },
  "language_info": {
   "codemirror_mode": {
    "name": "ipython",
    "version": 3
   },
   "file_extension": ".py",
   "mimetype": "text/x-python",
   "name": "python",
   "nbconvert_exporter": "python",
   "pygments_lexer": "ipython3",
   "version": "3.12.4"
  }
 },
 "nbformat": 4,
 "nbformat_minor": 5
}
